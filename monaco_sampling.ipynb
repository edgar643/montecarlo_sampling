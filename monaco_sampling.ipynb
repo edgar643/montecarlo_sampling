{
  "cells": [
    {
      "cell_type": "markdown",
      "metadata": {
        "id": "dnglvDsxGUs2"
      },
      "source": [
        "# Predicción de tendencia del dolar\n",
        "\n",
        "Este Jupyter Notebook tiene como objetivo desarrollar y evaluar modelos predictivos para la tendencia del dólar utilizando dos algoritmos de aprendizaje automático: Random Forest y Gradient Boosting. Para ello, se implementarán dos pipelines de procesamiento y modelado distintos, cada uno asociado a uno de estos algoritmos. El análisis se realizará sobre un conjunto de datos históricos de las tasas de cambio del dólar, incluyendo diversas variables que podrían influir en su comportamiento."
      ]
    },
    {
      "cell_type": "markdown",
      "metadata": {
        "id": "NLp1XZufHU10"
      },
      "source": [
        "## Instalamos paquetes"
      ]
    },
    {
      "cell_type": "code",
      "execution_count": 1,
      "metadata": {
        "id": "H7Gg7yg9Fjzb"
      },
      "outputs": [],
      "source": []
    },
    {
      "cell_type": "markdown",
      "metadata": {
        "id": "uM42a8vYHeF0"
      },
      "source": [
        "Hacemos esas cosas genéricas que el profe siempre hace en clase"
      ]
    },
    {
      "cell_type": "code",
      "execution_count": 2,
      "metadata": {
        "id": "M1B6JRhdHkOv"
      },
      "outputs": [],
      "source": [
        "# "
      ]
    },
    {
      "cell_type": "markdown",
      "metadata": {
        "id": "sRs2adhUJAyG"
      },
      "source": [
        "## Descargamos los datos\n",
        "\n",
        "Nos traemos el csv y creamos el dataset. El head() lo estamos usando para asegurarnos que tenemos los datos que son."
      ]
    },
    {
      "cell_type": "code",
      "execution_count": 3,
      "metadata": {
        "colab": {
          "base_uri": "https://localhost:8080/"
        },
        "id": "uDSTp0oZRMC1",
        "outputId": "1d3853d5-6e8b-459e-c921-35baf7355f0a"
      },
      "outputs": [
        {
          "name": "stdout",
          "output_type": "stream",
          "text": [
            "--2023-10-23 17:46:21--  https://docs.google.com/spreadsheets/d/1N90hH0WpO7IhK5ptAW-kWakol71F8GfkiFp0bYlyMVI/gviz/tq?tqx=out:csv&sheet=ML-Dolar%20(Full%20Dataset)\n",
            "Resolving docs.google.com (docs.google.com)... 142.250.101.138, 142.250.101.100, 142.250.101.139, ...\n",
            "Connecting to docs.google.com (docs.google.com)|142.250.101.138|:443... connected.\n",
            "HTTP request sent, awaiting response... 200 OK\n",
            "Length: unspecified [text/csv]\n",
            "Saving to: ‘dollar_dataset.csv’\n",
            "\n",
            "dollar_dataset.csv      [ <=>                ]  66.65K  --.-KB/s    in 0.005s  \n",
            "\n",
            "2023-10-23 17:46:21 (13.0 MB/s) - ‘dollar_dataset.csv’ saved [68249]\n",
            "\n"
          ]
        }
      ],
      "source": [
        "\n"
      ]
    },
    {
      "cell_type": "code",
      "execution_count": 4,
      "metadata": {
        "colab": {
          "base_uri": "https://localhost:8080/"
        },
        "id": "InXr9TbxTKsI",
        "outputId": "4a5c2261-98ac-4158-a48b-497bc75f1f6b"
      },
      "outputs": [
        {
          "data": {
            "text/plain": [
              "inflacion_col                    float64\n",
              "inflacion_usa                    float64\n",
              "inflacion_eu                     float64\n",
              "deuda_ext_publica                float64\n",
              "deuda_ext_privada                float64\n",
              "deuda_ext_total                  float64\n",
              "pib_pesos                        float64\n",
              "prime_rate                       float64\n",
              "cafe_miles_dolares               float64\n",
              "cafe_toneladas_cubicas           float64\n",
              "carbon_miles_dolares             float64\n",
              "carbon_toneladas_cubicas         float64\n",
              "petroleo_miles_dolares           float64\n",
              "petroleo_toneladas_cubicas       float64\n",
              "ferroniquel_miles_dolares        float64\n",
              "ferroniquel_toneladas_cubicas    float64\n",
              "trm                              float64\n",
              "dtype: object"
            ]
          },
          "execution_count": 4,
          "metadata": {},
          "output_type": "execute_result"
        }
      ],
      "source": []
    },
    {
      "cell_type": "markdown",
      "metadata": {
        "id": "ESE9Qz9wasY9"
      },
      "source": [
        "## Vamos a partir el dataset en datos de entrenamiento y datos de prueba\n",
        "\n",
        "Como no tenemos suficientes datos, no vamos a trabajar con datos de validación"
      ]
    },
    {
      "cell_type": "code",
      "execution_count": 5,
      "metadata": {
        "id": "4O55LVM_aznW"
      },
      "outputs": [],
      "source": []
    },
    {
      "cell_type": "markdown",
      "metadata": {
        "id": "jyf2JtfHYmnp"
      },
      "source": [
        "## Nos embarcamos en la travesía de quitar los nulos y escalar los datos\n",
        "\n",
        "Debido a que los datos que tenemos son menusales, pero temas de inflación y deuda externa los tenemos anuales, debemos normalizar esas columnas para que tengamos datos mensuales que puedan contribuir a la predicción.\n",
        "\n",
        "Vamos a crear el pipeline que necesitamos."
      ]
    },
    {
      "cell_type": "code",
      "execution_count": null,
      "metadata": {
        "id": "uH7ubaVHhLkG"
      },
      "outputs": [],
      "source": []
    },
    {
      "cell_type": "markdown",
      "metadata": {
        "id": "ZEIo2ZYAhKld"
      },
      "source": []
    },
    {
      "cell_type": "code",
      "execution_count": null,
      "metadata": {
        "id": "P9l42KEtVJnK"
      },
      "outputs": [],
      "source": []
    },
    {
      "cell_type": "code",
      "execution_count": null,
      "metadata": {
        "id": "6R7qnKp1X75A"
      },
      "outputs": [],
      "source": []
    },
    {
      "cell_type": "markdown",
      "metadata": {
        "id": "-hQW0f6Kby7Y"
      },
      "source": [
        "## Vamos a arrancar nuestro proceso para entrenar el modelo"
      ]
    },
    {
      "cell_type": "code",
      "execution_count": null,
      "metadata": {
        "id": "Vg6Zieqib3v0"
      },
      "outputs": [],
      "source": []
    },
    {
      "cell_type": "code",
      "execution_count": null,
      "metadata": {
        "id": "EJPnLo6Fd6Kl"
      },
      "outputs": [],
      "source": []
    },
    {
      "cell_type": "code",
      "execution_count": null,
      "metadata": {
        "id": "2g0CHyhRd8XB"
      },
      "outputs": [],
      "source": []
    },
    {
      "cell_type": "code",
      "execution_count": null,
      "metadata": {
        "id": "y2cTwXOId_xZ"
      },
      "outputs": [],
      "source": []
    },
    {
      "cell_type": "code",
      "execution_count": null,
      "metadata": {
        "id": "IFi4lkX5e2Pm"
      },
      "outputs": [],
      "source": []
    },
    {
      "cell_type": "markdown",
      "metadata": {
        "id": "-CMCyOEW4_5J"
      },
      "source": [
        "## Explicabilidad"
      ]
    },
    {
      "cell_type": "code",
      "execution_count": null,
      "metadata": {
        "id": "A1iMJH4b5CZE"
      },
      "outputs": [],
      "source": []
    },
    {
      "cell_type": "code",
      "execution_count": null,
      "metadata": {
        "id": "1uPabbmC5EZ7"
      },
      "outputs": [],
      "source": []
    },
    {
      "cell_type": "code",
      "execution_count": null,
      "metadata": {
        "id": "S8roZ_rP5XWS"
      },
      "outputs": [],
      "source": []
    },
    {
      "cell_type": "code",
      "execution_count": null,
      "metadata": {
        "id": "yJNWdtuU5Zy_"
      },
      "outputs": [],
      "source": [
        "pipeline_gb.named_steps.keys()"
      ]
    },
    {
      "cell_type": "code",
      "execution_count": null,
      "metadata": {
        "id": "Bh1MgH8X5cxs"
      },
      "outputs": [],
      "source": [
        "\n"
      ]
    },
    {
      "cell_type": "code",
      "execution_count": null,
      "metadata": {
        "id": "kYKkPwVb5kIK"
      },
      "outputs": [],
      "source": [
        "\n"
      ]
    },
    {
      "cell_type": "code",
      "execution_count": null,
      "metadata": {
        "id": "Uuj7NXQ65ufA"
      },
      "outputs": [],
      "source": []
    },
    {
      "cell_type": "code",
      "execution_count": null,
      "metadata": {
        "id": "irLl-LRT5w1t"
      },
      "outputs": [],
      "source": []
    },
    {
      "cell_type": "code",
      "execution_count": null,
      "metadata": {
        "id": "7jHagWAp507L"
      },
      "outputs": [],
      "source": []
    }
  ],
  "metadata": {
    "colab": {
      "provenance": []
    },
    "kernelspec": {
      "display_name": "Python 3",
      "name": "python3"
    },
    "language_info": {
      "name": "python"
    }
  },
  "nbformat": 4,
  "nbformat_minor": 0
}
